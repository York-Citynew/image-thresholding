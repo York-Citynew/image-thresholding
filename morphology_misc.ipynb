{
 "cells": [
  {
   "cell_type": "code",
   "execution_count": 1,
   "metadata": {},
   "outputs": [],
   "source": [
    "from scipy.ndimage import generic_filter\n",
    "import numpy as np\n",
    "import matplotlib.pyplot as plt\n",
    "import ipywidgets as widgets"
   ]
  },
  {
   "cell_type": "code",
   "execution_count": 2,
   "metadata": {},
   "outputs": [],
   "source": [
    "h, w = 300, 500\n",
    "erosion_test = np.zeros((h, w))\n",
    "y, x = np.ogrid[:h, :w]\n",
    "cx, cy, r = w//2, h//2, h//4\n",
    "circle1 = ((x-5.15*cx//4)**2 + (y-cy)**2 <= r**2)\n",
    "circle2 = ((x-2.85*cx//4)**2 + (y-cy)**2 <= r**2)\n",
    "erosion_test[circle1] = 1\n",
    "erosion_test[circle2] = 1\n",
    "erosion_test[145:155,390:410] = 1\n",
    "\n",
    "dilation_test = np.zeros((h, w))\n",
    "dilation_test[h//10:9*h//10, w//10:9*w//10] = 1\n",
    "dilation_test[50:65, 8*w//10:9*w//10] = 0\n",
    "y, x = np.ogrid[:h, :w]\n",
    "cx, cy, r = w//2, h//2, h//32\n",
    "circle = ((x-cx)**2 + (y-cy)**2 <= r**2)\n",
    "dilation_test[circle] = 0\n",
    "\n",
    "test = np.zeros((h, w))\n",
    "y, x = np.ogrid[:h, :w]\n",
    "cx, cy, r = w//2, h//2, h//4\n",
    "circle1 = ((x-5.15*cx//4)**2 + (y-cy)**2 <= r**2)\n",
    "circle2 = ((x-2.85*cx//4)**2 + (y-cy)**2 <= r**2)\n",
    "circle3 = ((x-2.85*cx//4)**2 + (y-cy)**2 <= (r//16)**2)\n",
    "test[145:155,390:410] = 1\n",
    "test[circle1] = 1\n",
    "test[circle2] = 1\n",
    "test[circle3] = 0\n",
    "test[145:155, 100:110] = 0\n",
    "\n",
    "cases = [dilation_test, erosion_test, test]"
   ]
  },
  {
   "cell_type": "code",
   "execution_count": 3,
   "metadata": {},
   "outputs": [],
   "source": [
    "def dilation(image, shape, size):\n",
    "    if shape == 'square':\n",
    "        kernel = np.ones(size**2)\n",
    "    else:\n",
    "        y, x = np.ogrid[:size, :size]\n",
    "        r = size//2\n",
    "        kernel = ((x-r)**2 + (y-r)**2 <= r**2).ravel()\n",
    "    return generic_filter(image,lambda image: bool(np.any(np.array(image)*kernel)),(size,size))\n",
    "\n",
    "def erosion(image, shape, size):\n",
    "    if shape == 'square':\n",
    "        kernel = np.ones(size**2)\n",
    "    else:\n",
    "        y, x = np.ogrid[:size, :size]\n",
    "        r = size//2\n",
    "        kernel = ((x-r)**2 + (y-r)**2 <= r**2).ravel()\n",
    "    return generic_filter(image,lambda image: np.sum(np.array(image)*kernel) == np.sum(kernel),(size,size))\n",
    "\n",
    "opening = lambda image, shape, size: dilation(erosion(image, shape, size), shape, size)\n",
    "closing = lambda image, shape, size: erosion(dilation(image, shape, size), shape, size)\n",
    "\n",
    "def main(function, case, size, shape):\n",
    "    case = cases[case- 1]\n",
    "    if function == 'dilation':\n",
    "        res = dilation(case, shape, size)\n",
    "    elif function == 'erosion':\n",
    "        res = erosion(case, shape, size)\n",
    "    elif function == 'opening':\n",
    "        res = opening(case, shape, size)\n",
    "    else:\n",
    "        res = closing(case, shape, size)\n",
    "    \n",
    "    _, (ax1, ax2) = plt.subplots(1,2,figsize=(10,5))\n",
    "    ax1.set_title('original')\n",
    "    ax1.imshow(case, 'gray')\n",
    "    ax2.set_title('result')\n",
    "    ax2.imshow(res, 'gray')\n",
    "    plt.show()"
   ]
  },
  {
   "cell_type": "code",
   "execution_count": 4,
   "metadata": {},
   "outputs": [
    {
     "data": {
      "application/vnd.jupyter.widget-view+json": {
       "model_id": "ea7d385e0bc24bdaab4a816091c7599f",
       "version_major": 2,
       "version_minor": 0
      },
      "text/plain": [
       "interactive(children=(Dropdown(description='Function:', options=('dilation', 'erosion', 'opening', 'closing'),…"
      ]
     },
     "metadata": {},
     "output_type": "display_data"
    },
    {
     "data": {
      "text/plain": [
       "<function __main__.main(function, case, size, shape)>"
      ]
     },
     "execution_count": 4,
     "metadata": {},
     "output_type": "execute_result"
    }
   ],
   "source": [
    "size_slider = widgets.IntSlider(\n",
    "    value=11,\n",
    "    min=1,\n",
    "    max=101,\n",
    "    step=2,\n",
    "    description='Size:',\n",
    "    )\n",
    "\n",
    "case_slider = widgets.Dropdown(\n",
    "    options=[1, 2, 3],\n",
    "    value=1,\n",
    "    description='Case:',\n",
    ")\n",
    "\n",
    "func_slider = widgets.Dropdown(\n",
    "    options=['dilation', 'erosion', 'opening', 'closing'],\n",
    "    value='dilation',\n",
    "    description='Function:',\n",
    ")\n",
    "\n",
    "shape_slider = widgets.RadioButtons(\n",
    "    options=['square', 'circle'],\n",
    "    value='square',\n",
    "    description='shape:'\n",
    ")\n",
    "\n",
    "widgets.interact(main, function=func_slider, case=case_slider, size=size_slider, shape=shape_slider)"
   ]
  },
  {
   "cell_type": "markdown",
   "metadata": {},
   "source": [
    "### Case 3 needs to be manually solved since two kernels of the same size won't do much."
   ]
  },
  {
   "cell_type": "markdown",
   "metadata": {},
   "source": [
    "### Extra: Boundary Extraction."
   ]
  },
  {
   "cell_type": "code",
   "execution_count": 5,
   "metadata": {},
   "outputs": [
    {
     "data": {
      "image/png": "[encoded data removed]",
      "text/plain": [
       "<Figure size 1000x500 with 2 Axes>"
      ]
     },
     "metadata": {},
     "output_type": "display_data"
    }
   ],
   "source": [
    "boundary_extraction = test - erosion(test,'circle' ,3)\n",
    "\n",
    "_, (ax1, ax2) = plt.subplots(1,2,figsize=(10,5))\n",
    "ax1.set_title('original')\n",
    "ax1.imshow(test, 'gray')\n",
    "ax2.set_title('result')\n",
    "ax2.imshow(boundary_extraction, 'gray')\n",
    "plt.show()"
   ]
  }
 ],
 "metadata": {
  "kernelspec": {
   "display_name": "Python 3 (ipykernel)",
   "language": "python",
   "name": "python3"
  },
  "language_info": {
   "codemirror_mode": {
    "name": "ipython",
    "version": 3
   },
   "file_extension": ".py",
   "mimetype": "text/x-python",
   "name": "python",
   "nbconvert_exporter": "python",
   "pygments_lexer": "ipython3",
   "version": "3.11.4"
  }
 },
 "nbformat": 4,
 "nbformat_minor": 2
}
